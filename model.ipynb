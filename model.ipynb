{
 "cells": [
  {
   "cell_type": "markdown",
   "metadata": {},
   "source": [
    "Загрузим необходимые библиотеки"
   ]
  },
  {
   "cell_type": "code",
   "execution_count": 3,
   "metadata": {},
   "outputs": [
    {
     "name": "stderr",
     "output_type": "stream",
     "text": [
      "C:\\ProgramData\\Anaconda3\\lib\\site-packages\\scipy\\_lib\\_numpy_compat.py:287: DeprecationWarning: invalid escape sequence \\p\n",
      "  \"\"\"\n",
      "C:\\ProgramData\\Anaconda3\\lib\\site-packages\\nltk\\featstruct.py:1206: DeprecationWarning: invalid escape sequence \\d\n",
      "  name, n = re.sub('\\d+$', '', var.name), 2\n",
      "C:\\ProgramData\\Anaconda3\\lib\\site-packages\\nltk\\sem\\evaluate.py:281: DeprecationWarning: invalid escape sequence \\ \n",
      "  \"\"\"\n",
      "C:\\ProgramData\\Anaconda3\\lib\\site-packages\\nltk\\sem\\relextract.py:111: DeprecationWarning: invalid escape sequence \\w\n",
      "  ENT = re.compile(\"&(\\w+?);\")\n",
      "C:\\ProgramData\\Anaconda3\\lib\\site-packages\\nltk\\sem\\relextract.py:356: DeprecationWarning: invalid escape sequence \\s\n",
      "  \"\"\"\n",
      "C:\\ProgramData\\Anaconda3\\lib\\site-packages\\nltk\\grammar.py:1138: DeprecationWarning: invalid escape sequence \\*\n",
      "  \"\"\"\n",
      "C:\\ProgramData\\Anaconda3\\lib\\site-packages\\nltk\\tree.py:809: DeprecationWarning: invalid escape sequence \\$\n",
      "  reserved_chars = re.compile('([#\\$%&~_\\{\\}])')\n",
      "C:\\ProgramData\\Anaconda3\\lib\\site-packages\\sklearn\\externals\\joblib\\func_inspect.py:53: DeprecationWarning: invalid escape sequence \\<\n",
      "  '\\<doctest (.*\\.rst)\\[(.*)\\]\\>', source_file).groups()\n",
      "C:\\ProgramData\\Anaconda3\\lib\\site-packages\\sklearn\\externals\\joblib\\_memory_helpers.py:10: DeprecationWarning: invalid escape sequence \\s\n",
      "  cookie_re = re.compile(\"coding[:=]\\s*([-\\w.]+)\")\n",
      "C:\\ProgramData\\Anaconda3\\lib\\site-packages\\sklearn\\datasets\\samples_generator.py:835: DeprecationWarning: invalid escape sequence \\#\n",
      "  \"\"\"\n",
      "C:\\ProgramData\\Anaconda3\\lib\\site-packages\\sklearn\\datasets\\samples_generator.py:1425: DeprecationWarning: invalid escape sequence \\c\n",
      "  \"\"\"\n",
      "C:\\ProgramData\\Anaconda3\\lib\\site-packages\\sklearn\\metrics\\classification.py:349: DeprecationWarning: invalid escape sequence \\k\n",
      "  \"\"\"\n",
      "C:\\ProgramData\\Anaconda3\\lib\\site-packages\\sklearn\\linear_model\\omp.py:343: DeprecationWarning: invalid escape sequence \\g\n",
      "  \"\"\"\n",
      "C:\\ProgramData\\Anaconda3\\lib\\site-packages\\nltk\\tokenize\\regexp.py:102: DeprecationWarning: invalid escape sequence \\w\n",
      "  \"\"\"\n",
      "C:\\ProgramData\\Anaconda3\\lib\\site-packages\\nltk\\tokenize\\repp.py:132: DeprecationWarning: invalid escape sequence \\(\n",
      "  line_regex = re.compile('^\\((\\d+), (\\d+), (.+)\\)$', re.MULTILINE)\n",
      "C:\\ProgramData\\Anaconda3\\lib\\site-packages\\nltk\\tokenize\\texttiling.py:96: DeprecationWarning: invalid escape sequence \\-\n",
      "  if re.match(\"[a-z\\-\\' \\n\\t]\", c))\n",
      "C:\\ProgramData\\Anaconda3\\lib\\site-packages\\nltk\\tokenize\\toktok.py:51: DeprecationWarning: invalid escape sequence \\]\n",
      "  FUNKY_PUNCT_1 = re.compile(u'([،;؛¿!\"\\])}»›”؟¡%٪°±©®।॥…])'), r\" \\1 \"\n",
      "C:\\ProgramData\\Anaconda3\\lib\\site-packages\\nltk\\tokenize\\toktok.py:53: DeprecationWarning: invalid escape sequence \\[\n",
      "  FUNKY_PUNCT_2 = re.compile(u'([({\\[“‘„‚«‹「『])'), r\" \\1 \"\n",
      "C:\\ProgramData\\Anaconda3\\lib\\site-packages\\nltk\\tokenize\\toktok.py:60: DeprecationWarning: invalid escape sequence \\|\n",
      "  PIPE = re.compile('\\|'), ' &#124; '\n",
      "C:\\ProgramData\\Anaconda3\\lib\\site-packages\\nltk\\chunk\\util.py:360: DeprecationWarning: invalid escape sequence \\S\n",
      "  _LINE_RE = re.compile('(\\S+)\\s+(\\S+)\\s+([IOB])-?(\\S+)?')\n",
      "C:\\ProgramData\\Anaconda3\\lib\\site-packages\\nltk\\tag\\sequential.py:714: DeprecationWarning: invalid escape sequence \\W\n",
      "  elif re.match('\\W+$', word):\n",
      "C:\\ProgramData\\Anaconda3\\lib\\site-packages\\nltk\\tag\\sequential.py:712: DeprecationWarning: invalid escape sequence \\.\n",
      "  if re.match('[0-9]+(\\.[0-9]*)?|[0-9]*\\.[0-9]+$', word):\n",
      "C:\\ProgramData\\Anaconda3\\lib\\site-packages\\nltk\\classify\\maxent.py:1276: DeprecationWarning: invalid escape sequence \\ \n",
      "  \"\"\"\n",
      "C:\\ProgramData\\Anaconda3\\lib\\site-packages\\nltk\\chunk\\regexp.py:71: DeprecationWarning: invalid escape sequence \\{\n",
      "  _BRACKETS = re.compile('[^\\{\\}]+')\n",
      "C:\\ProgramData\\Anaconda3\\lib\\site-packages\\nltk\\chunk\\regexp.py:736: DeprecationWarning: invalid escape sequence \\}\n",
      "  regexp = re.compile('(?P<left>%s)\\}(?P<right>%s)' %\n",
      "C:\\ProgramData\\Anaconda3\\lib\\site-packages\\nltk\\stem\\lancaster.py:194: DeprecationWarning: invalid escape sequence \\*\n",
      "  valid_rule = re.compile(\"^[a-z]+\\*?\\d[a-z]*[>\\.]?$\")\n",
      "C:\\ProgramData\\Anaconda3\\lib\\site-packages\\nltk\\stem\\porter.py:180: DeprecationWarning: invalid escape sequence \\m\n",
      "  \"\"\"\n",
      "C:\\ProgramData\\Anaconda3\\lib\\site-packages\\nltk\\corpus\\reader\\util.py:597: DeprecationWarning: invalid escape sequence \\d\n",
      "  if re.match('^\\d+-\\d+', line) is not None:\n",
      "C:\\ProgramData\\Anaconda3\\lib\\site-packages\\nltk\\toolbox.py:196: DeprecationWarning: invalid escape sequence \\_\n",
      "  \"\"\"\n",
      "C:\\ProgramData\\Anaconda3\\lib\\site-packages\\nltk\\ccg\\combinator.py:226: DeprecationWarning: invalid escape sequence \\Y\n",
      "  \"\"\"\n",
      "C:\\ProgramData\\Anaconda3\\lib\\site-packages\\matplotlib\\mathtext.py:78: DeprecationWarning: invalid escape sequence \\p\n",
      "  \"\"\"\n",
      "C:\\ProgramData\\Anaconda3\\lib\\site-packages\\matplotlib\\mathtext.py:756: DeprecationWarning: invalid escape sequence \\l\n",
      "  for alias, target in [('\\leftparen', '('),\n",
      "C:\\ProgramData\\Anaconda3\\lib\\site-packages\\matplotlib\\mathtext.py:2437: DeprecationWarning: invalid escape sequence \\o\n",
      "  - (p.required_group | Error(\"Expected \\overline{value}\"))\n",
      "C:\\ProgramData\\Anaconda3\\lib\\site-packages\\matplotlib\\axes\\_axes.py:6722: DeprecationWarning: invalid escape sequence \\l\n",
      "  \"\"\"\n",
      "C:\\ProgramData\\Anaconda3\\lib\\site-packages\\matplotlib\\quiver.py:175: DeprecationWarning: invalid escape sequence \\s\n",
      "  \"\"\" % docstring.interpd.params\n",
      "C:\\ProgramData\\Anaconda3\\lib\\site-packages\\matplotlib\\quiver.py:885: DeprecationWarning: invalid escape sequence \\ \n",
      "  \"\"\" % docstring.interpd.params\n"
     ]
    }
   ],
   "source": [
    "import pandas as pd\n",
    "import nltk\n",
    "import numpy as np\n",
    "import matplotlib.pyplot as plt\n"
   ]
  },
  {
   "cell_type": "code",
   "execution_count": 1,
   "metadata": {},
   "outputs": [
    {
     "name": "stderr",
     "output_type": "stream",
     "text": [
      "C:\\BigARTM\\Python\\artm\\master_component.py:643: DeprecationWarning: invalid escape sequence \\*\n",
      "  \"\"\"\n",
      "C:\\BigARTM\\Python\\artm\\master_component.py:753: DeprecationWarning: invalid escape sequence \\d\n",
      "  \"\"\"\n",
      "C:\\BigARTM\\Python\\artm\\master_component.py:826: DeprecationWarning: 'async' and 'await' will become reserved keywords in Python 3.7\n",
      "  apply_weight=None, decay_weight=None, async=None):\n"
     ]
    }
   ],
   "source": [
    "import artm\n"
   ]
  },
  {
   "cell_type": "code",
   "execution_count": 2,
   "metadata": {
    "collapsed": true
   },
   "outputs": [],
   "source": [
    "import tqdm"
   ]
  },
  {
   "cell_type": "markdown",
   "metadata": {},
   "source": [
    "Сохраним список стоп-слов для русского языка и расширим его (из файлика stopwords-ru.txt для many-stop-words 0.2.2)"
   ]
  },
  {
   "cell_type": "code",
   "execution_count": 4,
   "metadata": {
    "collapsed": true
   },
   "outputs": [],
   "source": [
    "stop_words = nltk.corpus.stopwords.words('russian')\n",
    "stop_words.extend(pd.read_table(\"./stopwords-ru.txt\"))"
   ]
  },
  {
   "cell_type": "code",
   "execution_count": 5,
   "metadata": {},
   "outputs": [
    {
     "data": {
      "text/plain": [
       "['и',\n",
       " 'в',\n",
       " 'во',\n",
       " 'не',\n",
       " 'что',\n",
       " 'он',\n",
       " 'на',\n",
       " 'я',\n",
       " 'с',\n",
       " 'со',\n",
       " 'как',\n",
       " 'а',\n",
       " 'то',\n",
       " 'все',\n",
       " 'она',\n",
       " 'так',\n",
       " 'его',\n",
       " 'но',\n",
       " 'да',\n",
       " 'ты',\n",
       " 'к',\n",
       " 'у',\n",
       " 'же',\n",
       " 'вы',\n",
       " 'за',\n",
       " 'бы',\n",
       " 'по',\n",
       " 'только',\n",
       " 'ее',\n",
       " 'мне',\n",
       " 'было',\n",
       " 'вот',\n",
       " 'от',\n",
       " 'меня',\n",
       " 'еще',\n",
       " 'нет',\n",
       " 'о',\n",
       " 'из',\n",
       " 'ему',\n",
       " 'теперь',\n",
       " 'когда',\n",
       " 'даже',\n",
       " 'ну',\n",
       " 'вдруг',\n",
       " 'ли',\n",
       " 'если',\n",
       " 'уже',\n",
       " 'или',\n",
       " 'ни',\n",
       " 'быть',\n",
       " 'был',\n",
       " 'него',\n",
       " 'до',\n",
       " 'вас',\n",
       " 'нибудь',\n",
       " 'опять',\n",
       " 'уж',\n",
       " 'вам',\n",
       " 'ведь',\n",
       " 'там',\n",
       " 'потом',\n",
       " 'себя',\n",
       " 'ничего',\n",
       " 'ей',\n",
       " 'может',\n",
       " 'они',\n",
       " 'тут',\n",
       " 'где',\n",
       " 'есть',\n",
       " 'надо',\n",
       " 'ней',\n",
       " 'для',\n",
       " 'мы',\n",
       " 'тебя',\n",
       " 'их',\n",
       " 'чем',\n",
       " 'была',\n",
       " 'сам',\n",
       " 'чтоб',\n",
       " 'без',\n",
       " 'будто',\n",
       " 'чего',\n",
       " 'раз',\n",
       " 'тоже',\n",
       " 'себе',\n",
       " 'под',\n",
       " 'будет',\n",
       " 'ж',\n",
       " 'тогда',\n",
       " 'кто',\n",
       " 'этот',\n",
       " 'того',\n",
       " 'потому',\n",
       " 'этого',\n",
       " 'какой',\n",
       " 'совсем',\n",
       " 'ним',\n",
       " 'здесь',\n",
       " 'этом',\n",
       " 'один',\n",
       " 'почти',\n",
       " 'мой',\n",
       " 'тем',\n",
       " 'чтобы',\n",
       " 'нее',\n",
       " 'сейчас',\n",
       " 'были',\n",
       " 'куда',\n",
       " 'зачем',\n",
       " 'всех',\n",
       " 'никогда',\n",
       " 'можно',\n",
       " 'при',\n",
       " 'наконец',\n",
       " 'два',\n",
       " 'об',\n",
       " 'другой',\n",
       " 'хоть',\n",
       " 'после',\n",
       " 'над',\n",
       " 'больше',\n",
       " 'тот',\n",
       " 'через',\n",
       " 'эти',\n",
       " 'нас',\n",
       " 'про',\n",
       " 'всего',\n",
       " 'них',\n",
       " 'какая',\n",
       " 'много',\n",
       " 'разве',\n",
       " 'три',\n",
       " 'эту',\n",
       " 'моя',\n",
       " 'впрочем',\n",
       " 'хорошо',\n",
       " 'свою',\n",
       " 'этой',\n",
       " 'перед',\n",
       " 'иногда',\n",
       " 'лучше',\n",
       " 'чуть',\n",
       " 'том',\n",
       " 'нельзя',\n",
       " 'такой',\n",
       " 'им',\n",
       " 'более',\n",
       " 'всегда',\n",
       " 'конечно',\n",
       " 'всю',\n",
       " 'между',\n",
       " 'а']"
      ]
     },
     "execution_count": 5,
     "metadata": {},
     "output_type": "execute_result"
    }
   ],
   "source": [
    "stop_words"
   ]
  },
  {
   "cell_type": "code",
   "execution_count": 6,
   "metadata": {},
   "outputs": [
    {
     "name": "stdout",
     "output_type": "stream",
     "text": [
      "showing info https://raw.githubusercontent.com/nltk/nltk_data/gh-pages/index.xml\n"
     ]
    },
    {
     "data": {
      "text/plain": [
       "True"
      ]
     },
     "execution_count": 6,
     "metadata": {},
     "output_type": "execute_result"
    }
   ],
   "source": [
    "nltk.download()"
   ]
  },
  {
   "cell_type": "code",
   "execution_count": 7,
   "metadata": {
    "collapsed": true
   },
   "outputs": [],
   "source": [
    "test_df = pd.read_csv('D:/Practice/nlp_class_2/sample_submission.csv')"
   ]
  },
  {
   "cell_type": "markdown",
   "metadata": {},
   "source": [
    "Воспользуемся тем, что текст мы предварительно подготовили и очистили от html-тэгов, знаков препинания и json   \n",
    "Загрузим сохраненные данные из файла, причем переведем текст к строчным буквам."
   ]
  },
  {
   "cell_type": "code",
   "execution_count": 8,
   "metadata": {
    "collapsed": true
   },
   "outputs": [],
   "source": [
    "df = pd.read_pickle('D:/Practice/nlp_class_2/baseline_lemmatized_dataset')\n",
    "df.cleared_text = df.cleared_text.apply(lambda x : x.lower())\n",
    "df.set_index('post_id', inplace=True)"
   ]
  },
  {
   "cell_type": "code",
   "execution_count": 9,
   "metadata": {},
   "outputs": [
    {
     "data": {
      "text/html": [
       "<div>\n",
       "<style>\n",
       "    .dataframe thead tr:only-child th {\n",
       "        text-align: right;\n",
       "    }\n",
       "\n",
       "    .dataframe thead th {\n",
       "        text-align: left;\n",
       "    }\n",
       "\n",
       "    .dataframe tbody tr th {\n",
       "        vertical-align: top;\n",
       "    }\n",
       "</style>\n",
       "<table border=\"1\" class=\"dataframe\">\n",
       "  <thead>\n",
       "    <tr style=\"text-align: right;\">\n",
       "      <th></th>\n",
       "      <th>published_at</th>\n",
       "      <th>feature_text</th>\n",
       "      <th>cleared_text</th>\n",
       "      <th>lemmatized_text</th>\n",
       "    </tr>\n",
       "    <tr>\n",
       "      <th>post_id</th>\n",
       "      <th></th>\n",
       "      <th></th>\n",
       "      <th></th>\n",
       "      <th></th>\n",
       "    </tr>\n",
       "  </thead>\n",
       "  <tbody>\n",
       "    <tr>\n",
       "      <th>1</th>\n",
       "      <td>2017-01-01T00:05:00Z</td>\n",
       "      <td>Полиция Стамбула собирается штурмовать ночной ...</td>\n",
       "      <td>полиция стамбула собирается штурмовать ночной ...</td>\n",
       "      <td>полиция   стамбул   собираться   штурмовать   ...</td>\n",
       "    </tr>\n",
       "    <tr>\n",
       "      <th>2</th>\n",
       "      <td>2017-01-01T00:07:00Z</td>\n",
       "      <td>Расстрел посетителей в ночном клубе в Стамбуле...</td>\n",
       "      <td>расстрел посетителей в ночном клубе в стамбуле...</td>\n",
       "      <td>расстрел   посетитель   в   ночной   клуб   в ...</td>\n",
       "    </tr>\n",
       "    <tr>\n",
       "      <th>3</th>\n",
       "      <td>2017-01-01T00:21:00Z</td>\n",
       "      <td>Губернатор Стамбула: При нападении на ночной к...</td>\n",
       "      <td>губернатор стамбула при нападении на ночной кл...</td>\n",
       "      <td>губернатор   стамбул   при   нападение   на   ...</td>\n",
       "    </tr>\n",
       "    <tr>\n",
       "      <th>4</th>\n",
       "      <td>2017-01-01T00:29:00Z</td>\n",
       "      <td>Губернатор Стамбула назвал террористической ат...</td>\n",
       "      <td>губернатор стамбула назвал террористической ат...</td>\n",
       "      <td>губернатор   стамбул   называть   террористиче...</td>\n",
       "    </tr>\n",
       "    <tr>\n",
       "      <th>5</th>\n",
       "      <td>2017-01-01T00:47:00Z</td>\n",
       "      <td>Очевидцы: В ночной клуб в Стамбуле проходили б...</td>\n",
       "      <td>очевидцы в ночной клуб в стамбуле проходили бе...</td>\n",
       "      <td>очевидец   в   ночной   клуб   в   стамбул   п...</td>\n",
       "    </tr>\n",
       "  </tbody>\n",
       "</table>\n",
       "</div>"
      ],
      "text/plain": [
       "                 published_at  \\\n",
       "post_id                         \n",
       "1        2017-01-01T00:05:00Z   \n",
       "2        2017-01-01T00:07:00Z   \n",
       "3        2017-01-01T00:21:00Z   \n",
       "4        2017-01-01T00:29:00Z   \n",
       "5        2017-01-01T00:47:00Z   \n",
       "\n",
       "                                              feature_text  \\\n",
       "post_id                                                      \n",
       "1        Полиция Стамбула собирается штурмовать ночной ...   \n",
       "2        Расстрел посетителей в ночном клубе в Стамбуле...   \n",
       "3        Губернатор Стамбула: При нападении на ночной к...   \n",
       "4        Губернатор Стамбула назвал террористической ат...   \n",
       "5        Очевидцы: В ночной клуб в Стамбуле проходили б...   \n",
       "\n",
       "                                              cleared_text  \\\n",
       "post_id                                                      \n",
       "1        полиция стамбула собирается штурмовать ночной ...   \n",
       "2        расстрел посетителей в ночном клубе в стамбуле...   \n",
       "3        губернатор стамбула при нападении на ночной кл...   \n",
       "4        губернатор стамбула назвал террористической ат...   \n",
       "5        очевидцы в ночной клуб в стамбуле проходили бе...   \n",
       "\n",
       "                                           lemmatized_text  \n",
       "post_id                                                     \n",
       "1        полиция   стамбул   собираться   штурмовать   ...  \n",
       "2        расстрел   посетитель   в   ночной   клуб   в ...  \n",
       "3        губернатор   стамбул   при   нападение   на   ...  \n",
       "4        губернатор   стамбул   называть   террористиче...  \n",
       "5        очевидец   в   ночной   клуб   в   стамбул   п...  "
      ]
     },
     "execution_count": 9,
     "metadata": {},
     "output_type": "execute_result"
    }
   ],
   "source": [
    "df.head()"
   ]
  },
  {
   "cell_type": "markdown",
   "metadata": {},
   "source": [
    "Добавим слова из обработанного текста в множество данных для bigartm, если эти слова не входят в набор стоп-слов."
   ]
  },
  {
   "cell_type": "code",
   "execution_count": 10,
   "metadata": {
    "collapsed": true
   },
   "outputs": [],
   "source": [
    "from collections import Counter"
   ]
  },
  {
   "cell_type": "code",
   "execution_count": 11,
   "metadata": {},
   "outputs": [
    {
     "data": {
      "application/vnd.jupyter.widget-view+json": {
       "model_id": "8f244343438145e9ad04ece47c21b3cd",
       "version_major": 2,
       "version_minor": 0
      },
      "text/plain": [
       "A Jupyter Widget"
      ]
     },
     "metadata": {},
     "output_type": "display_data"
    },
    {
     "name": "stdout",
     "output_type": "stream",
     "text": [
      "\n"
     ]
    }
   ],
   "source": [
    "with open('baseline_bigartm_dataset_input.txt', 'a', encoding='utf-8') as f:\n",
    "    for index in tqdm.tqdm_notebook(df.index):\n",
    "        c = Counter([it for it in df.loc[index].lemmatized_text.split(' ') if (it not in stop_words) & it.isalpha() & (len(it)>2)])\n",
    "        f.write('doc{0} '.format(index)\\\n",
    "                +' '.join(['{0}:{1}'.format(it, float(count)) for it, count in c.items()])\\\n",
    "                + '\\n'\\\n",
    "               )"
   ]
  },
  {
   "cell_type": "markdown",
   "metadata": {},
   "source": [
    "Для того, чтобы перевести данные из файла, записанного ранее (в формате Vowpal Wabbit, доступном для чтения в artm модель (NB! описание формата:   \n",
    "    каждый документ - отдельной строкой   \n",
    "    все токены представляют собой строки    \n",
    "    частота токенов по умолчанию соствляет 1 и может быть уточнена через двоеточие (как, собственно, мы и записали)   \n",
    "    )  воспользуемся конвертором\n"
   ]
  },
  {
   "cell_type": "code",
   "execution_count": 12,
   "metadata": {
    "collapsed": true
   },
   "outputs": [],
   "source": [
    "batch_vectorizer = artm.BatchVectorizer(data_path='baseline_bigartm_dataset_input.txt',\\\n",
    "                                        data_format='vowpal_wabbit',\\\n",
    "                                        target_folder='bbd_batches'\\\n",
    "                                       )"
   ]
  },
  {
   "cell_type": "markdown",
   "metadata": {},
   "source": [
    "А теперь получим artm модель по созданному ранее словарю. Кроме того, добавим к модели следующие регуляризаторы и обучим её."
   ]
  },
  {
   "cell_type": "code",
   "execution_count": 13,
   "metadata": {
    "collapsed": true
   },
   "outputs": [],
   "source": [
    "artm_model = artm.ARTM(num_topics=100, cache_theta=True,\n",
    "               num_document_passes=25, dictionary=batch_vectorizer.dictionary,\\\n",
    "               num_processors=4,\\\n",
    "               scores=[artm.TopTokensScore(name='top_tokens_score'),\\\n",
    "                       artm.PerplexityScore(name = 'perplexity'),\\\n",
    "                       artm.SparsityThetaScore(name='SparsityThetaScore')\\\n",
    "                      ])\n",
    "artm_model.regularizers.add(artm.SmoothSparseThetaRegularizer(name='SparseTheta', tau=-0.005))\n",
    "artm_model.regularizers.add(artm.DecorrelatorPhiRegularizer(name='DecorrelatorPhi', tau=1.5e+5))\n",
    "artm_model.regularizers.add(artm.SmoothSparsePhiRegularizer(name='SparsePhi', tau=-0.01))"
   ]
  },
  {
   "cell_type": "code",
   "execution_count": 14,
   "metadata": {
    "collapsed": true
   },
   "outputs": [],
   "source": [
    "artm_model.fit_offline(batch_vectorizer=batch_vectorizer, num_collection_passes=40)"
   ]
  },
  {
   "cell_type": "markdown",
   "metadata": {},
   "source": [
    "Объявим функцию для отрисовки результатов растерянности в зависимости от числа тем и числа эпох"
   ]
  },
  {
   "cell_type": "code",
   "execution_count": 15,
   "metadata": {
    "collapsed": true
   },
   "outputs": [],
   "source": [
    "def plot_value_tracker(track_object, tracker_name):\n",
    "    plt.plot(track_object.value)\n",
    "    plt.title('{0} of model with {1} topics and {2} doc_epochs'.format(tracker_name,25, 20))\n",
    "    plt.ylabel(tracker_name)\n",
    "    plt.xlabel('Collection Epochs')\n",
    "    plt.show()"
   ]
  },
  {
   "cell_type": "markdown",
   "metadata": {},
   "source": [
    "И построим графики для интересующих нас параметров полученной модели."
   ]
  },
  {
   "cell_type": "code",
   "execution_count": 16,
   "metadata": {
    "scrolled": true
   },
   "outputs": [
    {
     "data": {
      "image/png": "[encoded data removed]",
      "text/plain": [
       "<matplotlib.figure.Figure at 0x1ec761e2c18>"
      ]
     },
     "metadata": {},
     "output_type": "display_data"
    },
    {
     "data": {
      "image/png": "[encoded data removed]",
      "text/plain": [
       "<matplotlib.figure.Figure at 0x1ec12d48668>"
      ]
     },
     "metadata": {},
     "output_type": "display_data"
    }
   ],
   "source": [
    "perp = artm_model.score_tracker['perplexity']\n",
    "plot_value_tracker(perp, 'Perplexity')\n",
    "theta = artm_model.score_tracker['SparsityThetaScore']\n",
    "plot_value_tracker(theta, 'SparsityThetaScore')"
   ]
  },
  {
   "cell_type": "code",
   "execution_count": 17,
   "metadata": {
    "collapsed": true
   },
   "outputs": [],
   "source": [
    "doc_topic_matrix_artm = artm_model.get_theta().T"
   ]
  },
  {
   "cell_type": "code",
   "execution_count": null,
   "metadata": {},
   "outputs": [],
   "source": [
    "for test_it in tqdm.tqdm_notebook(test_df.index):\n",
    "    needed_pair = [int(it)-1 for it in test_df.loc[test_it].id.split('_')]\n",
    "    corr = doc_topic_matrix_artm.loc[needed_pair].T.corr().at[needed_pair[0], needed_pair[1]]\n",
    "    test_df.at[test_it, 'similarity'] = corr"
   ]
  },
  {
   "cell_type": "code",
   "execution_count": 20,
   "metadata": {},
   "outputs": [
    {
     "data": {
      "text/plain": [
       "(1720.6097412109375, 0.8001418709754944)"
      ]
     },
     "execution_count": 20,
     "metadata": {},
     "output_type": "execute_result"
    }
   ],
   "source": [
    "perp.last_value, theta.last_value"
   ]
  },
  {
   "cell_type": "code",
   "execution_count": 21,
   "metadata": {
    "collapsed": true
   },
   "outputs": [],
   "source": [
    "artm_model.save('baseline_artm_100_topics')"
   ]
  },
  {
   "cell_type": "code",
   "execution_count": 25,
   "metadata": {},
   "outputs": [
    {
     "data": {
      "text/html": [
       "<div>\n",
       "<style>\n",
       "    .dataframe thead tr:only-child th {\n",
       "        text-align: right;\n",
       "    }\n",
       "\n",
       "    .dataframe thead th {\n",
       "        text-align: left;\n",
       "    }\n",
       "\n",
       "    .dataframe tbody tr th {\n",
       "        vertical-align: top;\n",
       "    }\n",
       "</style>\n",
       "<table border=\"1\" class=\"dataframe\">\n",
       "  <thead>\n",
       "    <tr style=\"text-align: right;\">\n",
       "      <th></th>\n",
       "      <th>id</th>\n",
       "      <th>similarity</th>\n",
       "    </tr>\n",
       "  </thead>\n",
       "  <tbody>\n",
       "    <tr>\n",
       "      <th>0</th>\n",
       "      <td>38277_31392</td>\n",
       "      <td>0.750859</td>\n",
       "    </tr>\n",
       "    <tr>\n",
       "      <th>1</th>\n",
       "      <td>79621_65626</td>\n",
       "      <td>0.998987</td>\n",
       "    </tr>\n",
       "    <tr>\n",
       "      <th>2</th>\n",
       "      <td>61134_17553</td>\n",
       "      <td>-0.061975</td>\n",
       "    </tr>\n",
       "    <tr>\n",
       "      <th>3</th>\n",
       "      <td>56944_64787</td>\n",
       "      <td>0.032876</td>\n",
       "    </tr>\n",
       "    <tr>\n",
       "      <th>4</th>\n",
       "      <td>48365_7040</td>\n",
       "      <td>0.519461</td>\n",
       "    </tr>\n",
       "    <tr>\n",
       "      <th>5</th>\n",
       "      <td>12762_38868</td>\n",
       "      <td>0.180835</td>\n",
       "    </tr>\n",
       "    <tr>\n",
       "      <th>6</th>\n",
       "      <td>9185_33260</td>\n",
       "      <td>-0.046013</td>\n",
       "    </tr>\n",
       "    <tr>\n",
       "      <th>7</th>\n",
       "      <td>40675_101417</td>\n",
       "      <td>0.362259</td>\n",
       "    </tr>\n",
       "    <tr>\n",
       "      <th>8</th>\n",
       "      <td>36897_34524</td>\n",
       "      <td>0.525293</td>\n",
       "    </tr>\n",
       "    <tr>\n",
       "      <th>9</th>\n",
       "      <td>39233_45755</td>\n",
       "      <td>0.024484</td>\n",
       "    </tr>\n",
       "    <tr>\n",
       "      <th>10</th>\n",
       "      <td>38022_10863</td>\n",
       "      <td>0.898919</td>\n",
       "    </tr>\n",
       "    <tr>\n",
       "      <th>11</th>\n",
       "      <td>101867_101229</td>\n",
       "      <td>0.969806</td>\n",
       "    </tr>\n",
       "    <tr>\n",
       "      <th>12</th>\n",
       "      <td>69535_36644</td>\n",
       "      <td>-0.059843</td>\n",
       "    </tr>\n",
       "    <tr>\n",
       "      <th>13</th>\n",
       "      <td>10948_36382</td>\n",
       "      <td>0.115967</td>\n",
       "    </tr>\n",
       "    <tr>\n",
       "      <th>14</th>\n",
       "      <td>12535_99167</td>\n",
       "      <td>0.903786</td>\n",
       "    </tr>\n",
       "    <tr>\n",
       "      <th>15</th>\n",
       "      <td>55084_50554</td>\n",
       "      <td>0.508550</td>\n",
       "    </tr>\n",
       "    <tr>\n",
       "      <th>16</th>\n",
       "      <td>87186_72689</td>\n",
       "      <td>0.113310</td>\n",
       "    </tr>\n",
       "    <tr>\n",
       "      <th>17</th>\n",
       "      <td>56619_30043</td>\n",
       "      <td>0.319612</td>\n",
       "    </tr>\n",
       "    <tr>\n",
       "      <th>18</th>\n",
       "      <td>92812_11356</td>\n",
       "      <td>0.044998</td>\n",
       "    </tr>\n",
       "    <tr>\n",
       "      <th>19</th>\n",
       "      <td>24607_23555</td>\n",
       "      <td>0.038886</td>\n",
       "    </tr>\n",
       "    <tr>\n",
       "      <th>20</th>\n",
       "      <td>50654_96309</td>\n",
       "      <td>-0.075457</td>\n",
       "    </tr>\n",
       "    <tr>\n",
       "      <th>21</th>\n",
       "      <td>72139_75612</td>\n",
       "      <td>0.981574</td>\n",
       "    </tr>\n",
       "    <tr>\n",
       "      <th>22</th>\n",
       "      <td>17014_30724</td>\n",
       "      <td>-0.047114</td>\n",
       "    </tr>\n",
       "    <tr>\n",
       "      <th>23</th>\n",
       "      <td>39988_137</td>\n",
       "      <td>0.381682</td>\n",
       "    </tr>\n",
       "    <tr>\n",
       "      <th>24</th>\n",
       "      <td>35926_66650</td>\n",
       "      <td>0.938024</td>\n",
       "    </tr>\n",
       "    <tr>\n",
       "      <th>25</th>\n",
       "      <td>81100_46258</td>\n",
       "      <td>-0.005206</td>\n",
       "    </tr>\n",
       "    <tr>\n",
       "      <th>26</th>\n",
       "      <td>24040_27063</td>\n",
       "      <td>0.227144</td>\n",
       "    </tr>\n",
       "    <tr>\n",
       "      <th>27</th>\n",
       "      <td>19744_40724</td>\n",
       "      <td>0.097311</td>\n",
       "    </tr>\n",
       "    <tr>\n",
       "      <th>28</th>\n",
       "      <td>63446_63465</td>\n",
       "      <td>0.842306</td>\n",
       "    </tr>\n",
       "    <tr>\n",
       "      <th>29</th>\n",
       "      <td>35457_26865</td>\n",
       "      <td>0.141730</td>\n",
       "    </tr>\n",
       "    <tr>\n",
       "      <th>...</th>\n",
       "      <td>...</td>\n",
       "      <td>...</td>\n",
       "    </tr>\n",
       "    <tr>\n",
       "      <th>9970</th>\n",
       "      <td>1087_36343</td>\n",
       "      <td>0.126434</td>\n",
       "    </tr>\n",
       "    <tr>\n",
       "      <th>9971</th>\n",
       "      <td>52454_24797</td>\n",
       "      <td>0.170579</td>\n",
       "    </tr>\n",
       "    <tr>\n",
       "      <th>9972</th>\n",
       "      <td>70476_25539</td>\n",
       "      <td>0.132822</td>\n",
       "    </tr>\n",
       "    <tr>\n",
       "      <th>9973</th>\n",
       "      <td>100660_17799</td>\n",
       "      <td>0.051702</td>\n",
       "    </tr>\n",
       "    <tr>\n",
       "      <th>9974</th>\n",
       "      <td>16046_50364</td>\n",
       "      <td>0.348858</td>\n",
       "    </tr>\n",
       "    <tr>\n",
       "      <th>9975</th>\n",
       "      <td>44338_34441</td>\n",
       "      <td>-0.014862</td>\n",
       "    </tr>\n",
       "    <tr>\n",
       "      <th>9976</th>\n",
       "      <td>79410_74528</td>\n",
       "      <td>0.061603</td>\n",
       "    </tr>\n",
       "    <tr>\n",
       "      <th>9977</th>\n",
       "      <td>19374_79615</td>\n",
       "      <td>-0.063876</td>\n",
       "    </tr>\n",
       "    <tr>\n",
       "      <th>9978</th>\n",
       "      <td>98841_13579</td>\n",
       "      <td>0.204597</td>\n",
       "    </tr>\n",
       "    <tr>\n",
       "      <th>9979</th>\n",
       "      <td>72310_24174</td>\n",
       "      <td>0.092040</td>\n",
       "    </tr>\n",
       "    <tr>\n",
       "      <th>9980</th>\n",
       "      <td>13382_12768</td>\n",
       "      <td>0.085411</td>\n",
       "    </tr>\n",
       "    <tr>\n",
       "      <th>9981</th>\n",
       "      <td>24249_11589</td>\n",
       "      <td>0.235462</td>\n",
       "    </tr>\n",
       "    <tr>\n",
       "      <th>9982</th>\n",
       "      <td>57097_23694</td>\n",
       "      <td>0.057462</td>\n",
       "    </tr>\n",
       "    <tr>\n",
       "      <th>9983</th>\n",
       "      <td>72393_26647</td>\n",
       "      <td>0.205538</td>\n",
       "    </tr>\n",
       "    <tr>\n",
       "      <th>9984</th>\n",
       "      <td>23766_53747</td>\n",
       "      <td>0.217297</td>\n",
       "    </tr>\n",
       "    <tr>\n",
       "      <th>9985</th>\n",
       "      <td>96777_95693</td>\n",
       "      <td>0.320466</td>\n",
       "    </tr>\n",
       "    <tr>\n",
       "      <th>9986</th>\n",
       "      <td>74726_18832</td>\n",
       "      <td>-0.011233</td>\n",
       "    </tr>\n",
       "    <tr>\n",
       "      <th>9987</th>\n",
       "      <td>22284_36428</td>\n",
       "      <td>-0.030418</td>\n",
       "    </tr>\n",
       "    <tr>\n",
       "      <th>9988</th>\n",
       "      <td>37860_102797</td>\n",
       "      <td>0.103136</td>\n",
       "    </tr>\n",
       "    <tr>\n",
       "      <th>9989</th>\n",
       "      <td>27434_61293</td>\n",
       "      <td>0.421061</td>\n",
       "    </tr>\n",
       "    <tr>\n",
       "      <th>9990</th>\n",
       "      <td>54130_33369</td>\n",
       "      <td>0.020012</td>\n",
       "    </tr>\n",
       "    <tr>\n",
       "      <th>9991</th>\n",
       "      <td>30523_23772</td>\n",
       "      <td>0.583655</td>\n",
       "    </tr>\n",
       "    <tr>\n",
       "      <th>9992</th>\n",
       "      <td>66599_90035</td>\n",
       "      <td>-0.043458</td>\n",
       "    </tr>\n",
       "    <tr>\n",
       "      <th>9993</th>\n",
       "      <td>68721_14722</td>\n",
       "      <td>-0.045539</td>\n",
       "    </tr>\n",
       "    <tr>\n",
       "      <th>9994</th>\n",
       "      <td>21318_18620</td>\n",
       "      <td>0.011387</td>\n",
       "    </tr>\n",
       "    <tr>\n",
       "      <th>9995</th>\n",
       "      <td>7804_7835</td>\n",
       "      <td>0.118549</td>\n",
       "    </tr>\n",
       "    <tr>\n",
       "      <th>9996</th>\n",
       "      <td>42421_9927</td>\n",
       "      <td>-0.009429</td>\n",
       "    </tr>\n",
       "    <tr>\n",
       "      <th>9997</th>\n",
       "      <td>35334_28831</td>\n",
       "      <td>0.979928</td>\n",
       "    </tr>\n",
       "    <tr>\n",
       "      <th>9998</th>\n",
       "      <td>99779_55756</td>\n",
       "      <td>0.430888</td>\n",
       "    </tr>\n",
       "    <tr>\n",
       "      <th>9999</th>\n",
       "      <td>26815_26917</td>\n",
       "      <td>-0.051477</td>\n",
       "    </tr>\n",
       "  </tbody>\n",
       "</table>\n",
       "<p>10000 rows × 2 columns</p>\n",
       "</div>"
      ],
      "text/plain": [
       "                 id  similarity\n",
       "0       38277_31392    0.750859\n",
       "1       79621_65626    0.998987\n",
       "2       61134_17553   -0.061975\n",
       "3       56944_64787    0.032876\n",
       "4        48365_7040    0.519461\n",
       "5       12762_38868    0.180835\n",
       "6        9185_33260   -0.046013\n",
       "7      40675_101417    0.362259\n",
       "8       36897_34524    0.525293\n",
       "9       39233_45755    0.024484\n",
       "10      38022_10863    0.898919\n",
       "11    101867_101229    0.969806\n",
       "12      69535_36644   -0.059843\n",
       "13      10948_36382    0.115967\n",
       "14      12535_99167    0.903786\n",
       "15      55084_50554    0.508550\n",
       "16      87186_72689    0.113310\n",
       "17      56619_30043    0.319612\n",
       "18      92812_11356    0.044998\n",
       "19      24607_23555    0.038886\n",
       "20      50654_96309   -0.075457\n",
       "21      72139_75612    0.981574\n",
       "22      17014_30724   -0.047114\n",
       "23        39988_137    0.381682\n",
       "24      35926_66650    0.938024\n",
       "25      81100_46258   -0.005206\n",
       "26      24040_27063    0.227144\n",
       "27      19744_40724    0.097311\n",
       "28      63446_63465    0.842306\n",
       "29      35457_26865    0.141730\n",
       "...             ...         ...\n",
       "9970     1087_36343    0.126434\n",
       "9971    52454_24797    0.170579\n",
       "9972    70476_25539    0.132822\n",
       "9973   100660_17799    0.051702\n",
       "9974    16046_50364    0.348858\n",
       "9975    44338_34441   -0.014862\n",
       "9976    79410_74528    0.061603\n",
       "9977    19374_79615   -0.063876\n",
       "9978    98841_13579    0.204597\n",
       "9979    72310_24174    0.092040\n",
       "9980    13382_12768    0.085411\n",
       "9981    24249_11589    0.235462\n",
       "9982    57097_23694    0.057462\n",
       "9983    72393_26647    0.205538\n",
       "9984    23766_53747    0.217297\n",
       "9985    96777_95693    0.320466\n",
       "9986    74726_18832   -0.011233\n",
       "9987    22284_36428   -0.030418\n",
       "9988   37860_102797    0.103136\n",
       "9989    27434_61293    0.421061\n",
       "9990    54130_33369    0.020012\n",
       "9991    30523_23772    0.583655\n",
       "9992    66599_90035   -0.043458\n",
       "9993    68721_14722   -0.045539\n",
       "9994    21318_18620    0.011387\n",
       "9995      7804_7835    0.118549\n",
       "9996     42421_9927   -0.009429\n",
       "9997    35334_28831    0.979928\n",
       "9998    99779_55756    0.430888\n",
       "9999    26815_26917   -0.051477\n",
       "\n",
       "[10000 rows x 2 columns]"
      ]
     },
     "execution_count": 25,
     "metadata": {},
     "output_type": "execute_result"
    }
   ],
   "source": [
    "test_df"
   ]
  },
  {
   "cell_type": "code",
   "execution_count": 45,
   "metadata": {
    "collapsed": true
   },
   "outputs": [],
   "source": [
    "test_df.to_csv(\"Result1.csv\", index=False)"
   ]
  },
  {
   "cell_type": "code",
   "execution_count": null,
   "metadata": {
    "collapsed": true
   },
   "outputs": [],
   "source": []
  }
 ],
 "metadata": {
  "kernelspec": {
   "display_name": "Python 3",
   "language": "python",
   "name": "python3"
  },
  "language_info": {
   "codemirror_mode": {
    "name": "ipython",
    "version": 3
   },
   "file_extension": ".py",
   "mimetype": "text/x-python",
   "name": "python",
   "nbconvert_exporter": "python",
   "pygments_lexer": "ipython3",
   "version": "3.6.2"
  }
 },
 "nbformat": 4,
 "nbformat_minor": 2
}
