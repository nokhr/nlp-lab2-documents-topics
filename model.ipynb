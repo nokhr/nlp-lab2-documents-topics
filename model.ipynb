{
 "cells": [
  {
   "cell_type": "markdown",
   "metadata": {},
   "source": [
    "Загрузим необходимые библиотеки"
   ]
  },
  {
   "cell_type": "code",
   "execution_count": 1,
   "metadata": {
    "collapsed": true
   },
   "outputs": [],
   "source": [
    "import pandas as pd\n",
    "import nltk\n",
    "import numpy as np\n",
    "import matplotlib.pyplot as plt\n"
   ]
  },
  {
   "cell_type": "code",
   "execution_count": 2,
   "metadata": {},
   "outputs": [
    {
     "ename": "ModuleNotFoundError",
     "evalue": "No module named 'artm'",
     "output_type": "error",
     "traceback": [
      "\u001b[1;31m---------------------------------------------------------------------------\u001b[0m",
      "\u001b[1;31mModuleNotFoundError\u001b[0m                       Traceback (most recent call last)",
      "\u001b[1;32m<ipython-input-2-689dcb277cfe>\u001b[0m in \u001b[0;36m<module>\u001b[1;34m()\u001b[0m\n\u001b[1;32m----> 1\u001b[1;33m \u001b[1;32mimport\u001b[0m \u001b[0martm\u001b[0m\u001b[1;33m\u001b[0m\u001b[0m\n\u001b[0m",
      "\u001b[1;31mModuleNotFoundError\u001b[0m: No module named 'artm'"
     ]
    }
   ],
   "source": [
    "import artm\n"
   ]
  },
  {
   "cell_type": "code",
   "execution_count": 4,
   "metadata": {
    "collapsed": true
   },
   "outputs": [],
   "source": [
    "import tqdm"
   ]
  },
  {
   "cell_type": "markdown",
   "metadata": {},
   "source": [
    "Сохраним список стоп-слов для русского языка и расширим его (из файлика stopwords-ru.txt для many-stop-words 0.2.2)"
   ]
  },
  {
   "cell_type": "code",
   "execution_count": 9,
   "metadata": {
    "collapsed": true
   },
   "outputs": [],
   "source": [
    "stop_words = nltk.corpus.stopwords.words('russian')\n",
    "stop_words.extend(pd.read_table(\"./stopwords-ru.txt\"))"
   ]
  },
  {
   "cell_type": "code",
   "execution_count": 10,
   "metadata": {},
   "outputs": [
    {
     "data": {
      "text/plain": [
       "['и',\n",
       " 'в',\n",
       " 'во',\n",
       " 'не',\n",
       " 'что',\n",
       " 'он',\n",
       " 'на',\n",
       " 'я',\n",
       " 'с',\n",
       " 'со',\n",
       " 'как',\n",
       " 'а',\n",
       " 'то',\n",
       " 'все',\n",
       " 'она',\n",
       " 'так',\n",
       " 'его',\n",
       " 'но',\n",
       " 'да',\n",
       " 'ты',\n",
       " 'к',\n",
       " 'у',\n",
       " 'же',\n",
       " 'вы',\n",
       " 'за',\n",
       " 'бы',\n",
       " 'по',\n",
       " 'только',\n",
       " 'ее',\n",
       " 'мне',\n",
       " 'было',\n",
       " 'вот',\n",
       " 'от',\n",
       " 'меня',\n",
       " 'еще',\n",
       " 'нет',\n",
       " 'о',\n",
       " 'из',\n",
       " 'ему',\n",
       " 'теперь',\n",
       " 'когда',\n",
       " 'даже',\n",
       " 'ну',\n",
       " 'вдруг',\n",
       " 'ли',\n",
       " 'если',\n",
       " 'уже',\n",
       " 'или',\n",
       " 'ни',\n",
       " 'быть',\n",
       " 'был',\n",
       " 'него',\n",
       " 'до',\n",
       " 'вас',\n",
       " 'нибудь',\n",
       " 'опять',\n",
       " 'уж',\n",
       " 'вам',\n",
       " 'ведь',\n",
       " 'там',\n",
       " 'потом',\n",
       " 'себя',\n",
       " 'ничего',\n",
       " 'ей',\n",
       " 'может',\n",
       " 'они',\n",
       " 'тут',\n",
       " 'где',\n",
       " 'есть',\n",
       " 'надо',\n",
       " 'ней',\n",
       " 'для',\n",
       " 'мы',\n",
       " 'тебя',\n",
       " 'их',\n",
       " 'чем',\n",
       " 'была',\n",
       " 'сам',\n",
       " 'чтоб',\n",
       " 'без',\n",
       " 'будто',\n",
       " 'чего',\n",
       " 'раз',\n",
       " 'тоже',\n",
       " 'себе',\n",
       " 'под',\n",
       " 'будет',\n",
       " 'ж',\n",
       " 'тогда',\n",
       " 'кто',\n",
       " 'этот',\n",
       " 'того',\n",
       " 'потому',\n",
       " 'этого',\n",
       " 'какой',\n",
       " 'совсем',\n",
       " 'ним',\n",
       " 'здесь',\n",
       " 'этом',\n",
       " 'один',\n",
       " 'почти',\n",
       " 'мой',\n",
       " 'тем',\n",
       " 'чтобы',\n",
       " 'нее',\n",
       " 'сейчас',\n",
       " 'были',\n",
       " 'куда',\n",
       " 'зачем',\n",
       " 'всех',\n",
       " 'никогда',\n",
       " 'можно',\n",
       " 'при',\n",
       " 'наконец',\n",
       " 'два',\n",
       " 'об',\n",
       " 'другой',\n",
       " 'хоть',\n",
       " 'после',\n",
       " 'над',\n",
       " 'больше',\n",
       " 'тот',\n",
       " 'через',\n",
       " 'эти',\n",
       " 'нас',\n",
       " 'про',\n",
       " 'всего',\n",
       " 'них',\n",
       " 'какая',\n",
       " 'много',\n",
       " 'разве',\n",
       " 'три',\n",
       " 'эту',\n",
       " 'моя',\n",
       " 'впрочем',\n",
       " 'хорошо',\n",
       " 'свою',\n",
       " 'этой',\n",
       " 'перед',\n",
       " 'иногда',\n",
       " 'лучше',\n",
       " 'чуть',\n",
       " 'том',\n",
       " 'нельзя',\n",
       " 'такой',\n",
       " 'им',\n",
       " 'более',\n",
       " 'всегда',\n",
       " 'конечно',\n",
       " 'всю',\n",
       " 'между',\n",
       " 'а']"
      ]
     },
     "execution_count": 10,
     "metadata": {},
     "output_type": "execute_result"
    }
   ],
   "source": [
    "stop_words"
   ]
  },
  {
   "cell_type": "code",
   "execution_count": 6,
   "metadata": {},
   "outputs": [
    {
     "name": "stdout",
     "output_type": "stream",
     "text": [
      "showing info https://raw.githubusercontent.com/nltk/nltk_data/gh-pages/index.xml\n"
     ]
    },
    {
     "data": {
      "text/plain": [
       "True"
      ]
     },
     "execution_count": 6,
     "metadata": {},
     "output_type": "execute_result"
    }
   ],
   "source": [
    "#nltk.download()"
   ]
  },
  {
   "cell_type": "code",
   "execution_count": 37,
   "metadata": {
    "collapsed": true
   },
   "outputs": [],
   "source": [
    "test_df = pd.read_csv('sample_submission.csv')"
   ]
  },
  {
   "cell_type": "markdown",
   "metadata": {},
   "source": [
    "Воспользуемся тем, что текст мы предварительно подготовили и очистили от html-тэгов, знаков препинания и json   \n",
    "Загрузим сохраненные данные из файла, причем переведем текст к строчным буквам."
   ]
  },
  {
   "cell_type": "code",
   "execution_count": 38,
   "metadata": {
    "collapsed": true
   },
   "outputs": [],
   "source": [
    "df = pd.read_pickle('baseline_lemmatized_dataset')\n",
    "df.cleared_text = df.cleared_text.apply(lambda x : x.lower())\n",
    "df.set_index('post_id', inplace=True)"
   ]
  },
  {
   "cell_type": "code",
   "execution_count": 40,
   "metadata": {},
   "outputs": [
    {
     "data": {
      "text/html": [
       "<div>\n",
       "<style scoped>\n",
       "    .dataframe tbody tr th:only-of-type {\n",
       "        vertical-align: middle;\n",
       "    }\n",
       "\n",
       "    .dataframe tbody tr th {\n",
       "        vertical-align: top;\n",
       "    }\n",
       "\n",
       "    .dataframe thead th {\n",
       "        text-align: right;\n",
       "    }\n",
       "</style>\n",
       "<table border=\"1\" class=\"dataframe\">\n",
       "  <thead>\n",
       "    <tr style=\"text-align: right;\">\n",
       "      <th></th>\n",
       "      <th>published_at</th>\n",
       "      <th>feature_text</th>\n",
       "      <th>cleared_text</th>\n",
       "      <th>lemmatized_text</th>\n",
       "    </tr>\n",
       "    <tr>\n",
       "      <th>post_id</th>\n",
       "      <th></th>\n",
       "      <th></th>\n",
       "      <th></th>\n",
       "      <th></th>\n",
       "    </tr>\n",
       "  </thead>\n",
       "  <tbody>\n",
       "    <tr>\n",
       "      <th>1</th>\n",
       "      <td>2017-01-01T00:05:00Z</td>\n",
       "      <td>Полиция Стамбула собирается штурмовать ночной ...</td>\n",
       "      <td>полиция стамбула собирается штурмовать ночной ...</td>\n",
       "      <td>полиция   стамбул   собираться   штурмовать   ...</td>\n",
       "    </tr>\n",
       "    <tr>\n",
       "      <th>2</th>\n",
       "      <td>2017-01-01T00:07:00Z</td>\n",
       "      <td>Расстрел посетителей в ночном клубе в Стамбуле...</td>\n",
       "      <td>расстрел посетителей в ночном клубе в стамбуле...</td>\n",
       "      <td>расстрел   посетитель   в   ночной   клуб   в ...</td>\n",
       "    </tr>\n",
       "    <tr>\n",
       "      <th>3</th>\n",
       "      <td>2017-01-01T00:21:00Z</td>\n",
       "      <td>Губернатор Стамбула: При нападении на ночной к...</td>\n",
       "      <td>губернатор стамбула при нападении на ночной кл...</td>\n",
       "      <td>губернатор   стамбул   при   нападение   на   ...</td>\n",
       "    </tr>\n",
       "    <tr>\n",
       "      <th>4</th>\n",
       "      <td>2017-01-01T00:29:00Z</td>\n",
       "      <td>Губернатор Стамбула назвал террористической ат...</td>\n",
       "      <td>губернатор стамбула назвал террористической ат...</td>\n",
       "      <td>губернатор   стамбул   называть   террористиче...</td>\n",
       "    </tr>\n",
       "    <tr>\n",
       "      <th>5</th>\n",
       "      <td>2017-01-01T00:47:00Z</td>\n",
       "      <td>Очевидцы: В ночной клуб в Стамбуле проходили б...</td>\n",
       "      <td>очевидцы в ночной клуб в стамбуле проходили бе...</td>\n",
       "      <td>очевидец   в   ночной   клуб   в   стамбул   п...</td>\n",
       "    </tr>\n",
       "  </tbody>\n",
       "</table>\n",
       "</div>"
      ],
      "text/plain": [
       "                 published_at  \\\n",
       "post_id                         \n",
       "1        2017-01-01T00:05:00Z   \n",
       "2        2017-01-01T00:07:00Z   \n",
       "3        2017-01-01T00:21:00Z   \n",
       "4        2017-01-01T00:29:00Z   \n",
       "5        2017-01-01T00:47:00Z   \n",
       "\n",
       "                                              feature_text  \\\n",
       "post_id                                                      \n",
       "1        Полиция Стамбула собирается штурмовать ночной ...   \n",
       "2        Расстрел посетителей в ночном клубе в Стамбуле...   \n",
       "3        Губернатор Стамбула: При нападении на ночной к...   \n",
       "4        Губернатор Стамбула назвал террористической ат...   \n",
       "5        Очевидцы: В ночной клуб в Стамбуле проходили б...   \n",
       "\n",
       "                                              cleared_text  \\\n",
       "post_id                                                      \n",
       "1        полиция стамбула собирается штурмовать ночной ...   \n",
       "2        расстрел посетителей в ночном клубе в стамбуле...   \n",
       "3        губернатор стамбула при нападении на ночной кл...   \n",
       "4        губернатор стамбула назвал террористической ат...   \n",
       "5        очевидцы в ночной клуб в стамбуле проходили бе...   \n",
       "\n",
       "                                           lemmatized_text  \n",
       "post_id                                                     \n",
       "1        полиция   стамбул   собираться   штурмовать   ...  \n",
       "2        расстрел   посетитель   в   ночной   клуб   в ...  \n",
       "3        губернатор   стамбул   при   нападение   на   ...  \n",
       "4        губернатор   стамбул   называть   террористиче...  \n",
       "5        очевидец   в   ночной   клуб   в   стамбул   п...  "
      ]
     },
     "execution_count": 40,
     "metadata": {},
     "output_type": "execute_result"
    }
   ],
   "source": [
    "df.head()"
   ]
  },
  {
   "cell_type": "markdown",
   "metadata": {},
   "source": [
    "Добавим слова из обработанного текста в множество данных для bigartm, если эти слова не входят в набор стоп-слов."
   ]
  },
  {
   "cell_type": "code",
   "execution_count": 42,
   "metadata": {},
   "outputs": [
    {
     "data": {
      "application/vnd.jupyter.widget-view+json": {
       "model_id": "cd057fd47508437090d8792f5f821a5d",
       "version_major": 2,
       "version_minor": 0
      },
      "text/html": [
       "<p>Failed to display Jupyter Widget of type <code>HBox</code>.</p>\n",
       "<p>\n",
       "  If you're reading this message in the Jupyter Notebook or JupyterLab Notebook, it may mean\n",
       "  that the widgets JavaScript is still loading. If this message persists, it\n",
       "  likely means that the widgets JavaScript library is either not installed or\n",
       "  not enabled. See the <a href=\"https://ipywidgets.readthedocs.io/en/stable/user_install.html\">Jupyter\n",
       "  Widgets Documentation</a> for setup instructions.\n",
       "</p>\n",
       "<p>\n",
       "  If you're reading this message in another frontend (for example, a static\n",
       "  rendering on GitHub or <a href=\"https://nbviewer.jupyter.org/\">NBViewer</a>),\n",
       "  it may mean that your frontend doesn't currently support widgets.\n",
       "</p>\n"
      ],
      "text/plain": [
       "HBox(children=(IntProgress(value=0, max=103327), HTML(value='')))"
      ]
     },
     "metadata": {},
     "output_type": "display_data"
    },
    {
     "name": "stdout",
     "output_type": "stream",
     "text": [
      "\n"
     ]
    }
   ],
   "source": [
    "with open('baseline_bigartm_dataset_input.txt', 'a', encoding='utf-8') as f:\n",
    "    for index in tqdm.tqdm_notebook(df.index):\n",
    "        c = len([it for it in df.loc[index].lemmatized_text.split(' ') if (it not in stop_words) & it.isalpha() & (len(it)>2)])\n",
    "        f.write('doc{0} '.format(index)\\\n",
    "                +' '.join(['{0}:{1}'.format(it, float(count)) for it, count in c.items()])\\\n",
    "                + '\\n'\\\n",
    "               )"
   ]
  },
  {
   "cell_type": "markdown",
   "metadata": {},
   "source": [
    "Для того, чтобы перевести данные из файла, записанного ранее (в формате Vowpal Wabbit, доступном для чтения в artm модель (NB! описание формата:   \n",
    "    каждый документ - отдельной строкой   \n",
    "    все токены представляют собой строки    \n",
    "    частота токенов по умолчанию соствляет 1 и может быть уточнена через двоеточие (как, собственно, мы и записали)   \n",
    "    )  воспользуемся конвертором\n"
   ]
  },
  {
   "cell_type": "code",
   "execution_count": 43,
   "metadata": {
    "collapsed": true
   },
   "outputs": [],
   "source": [
    "batch_vectorizer = artm.BatchVectorizer(data_path='baseline_bigartm_dataset_input.txt',\\\n",
    "                                        data_format='vowpal_wabbit',\\\n",
    "                                        target_folder='bbd_batches'\\\n",
    "                                       )"
   ]
  },
  {
   "cell_type": "markdown",
   "metadata": {},
   "source": [
    "А теперь получим artm модель по созданному ранее словарю. Кроме того, добавим к модели следующие регуляризаторы и обучим её."
   ]
  },
  {
   "cell_type": "code",
   "execution_count": 64,
   "metadata": {
    "collapsed": true
   },
   "outputs": [],
   "source": [
    "artm_model = artm.ARTM(num_topics=100, cache_theta=True,\n",
    "               num_document_passes=25, dictionary=batch_vectorizer.dictionary,\\\n",
    "               num_processors=4,\\\n",
    "               scores=[artm.TopTokensScore(name='top_tokens_score'),\\\n",
    "                       artm.PerplexityScore(name = 'perplexity'),\\\n",
    "                       artm.SparsityThetaScore(name='SparsityThetaScore'),\\\n",
    "                       artm.TipikKernelScore(name ='TopikKernelScore')\\\n",
    "                      ])\n",
    "artm_model.regularizers.add(artm.SmoothSparseThetaRegularizer(name='SparseTheta', tau=-0.005))\n",
    "artm_model.regularizers.add(artm.DecorrelatorPhiRegularizer(name='DecorrelatorPhi', tau=1.5e+5))\n",
    "artm_model.regularizers.add(artm.SmoothSparsePhiRegularizer(name='SparsePhi', tau=-0.01))"
   ]
  },
  {
   "cell_type": "code",
   "execution_count": 66,
   "metadata": {
    "collapsed": true
   },
   "outputs": [],
   "source": [
    "artm_model.fit_offline(batch_vectorizer=batch_vectorizer, num_collection_passes=40)"
   ]
  },
  {
   "cell_type": "markdown",
   "metadata": {},
   "source": [
    "Объявим функцию для отрисовки результатов растерянности в зависимости от числа тем и числа эпох"
   ]
  },
  {
   "cell_type": "code",
   "execution_count": 19,
   "metadata": {
    "collapsed": true
   },
   "outputs": [],
   "source": [
    "def plot_value_tracker(track_object, tracker_name):\n",
    "    plt.plot(track_object.value)\n",
    "    plt.title('{0} of model with {1} topics and {2} doc_epochs'.format(tracker_name,25, 20))\n",
    "    plt.ylabel(tracker_name)\n",
    "    plt.xlabel('Collection Epochs')\n",
    "    plt.show()"
   ]
  },
  {
   "cell_type": "markdown",
   "metadata": {},
   "source": [
    "И построим графики для интересующих нас параметров полученной модели."
   ]
  },
  {
   "cell_type": "code",
   "execution_count": 177,
   "metadata": {
    "scrolled": true
   },
   "outputs": [
    {
     "data": {
      "image/png": "[encoded data removed]",
      "text/plain": [
       "<matplotlib.figure.Figure at 0x1a722893e48>"
      ]
     },
     "metadata": {},
     "output_type": "display_data"
    },
    {
     "data": {
      "image/png": "[encoded data removed]",
      "text/plain": [
       "<matplotlib.figure.Figure at 0x1a69c614630>"
      ]
     },
     "metadata": {},
     "output_type": "display_data"
    },
    {
     "data": {
      "image/png": "[encoded data removed]",
      "text/plain": [
       "<matplotlib.figure.Figure at 0x1bb35a02c88>"
      ]
     },
     "metadata": {},
     "output_type": "display_data"
    },
    {
     "data": {
      "image/png": "[encoded data removed]",
      "text/plain": [
       "<matplotlib.figure.Figure at 0x1a7228beb70>"
      ]
     },
     "metadata": {},
     "output_type": "display_data"
    },
    {
     "data": {
      "image/png": "[encoded data removed]",
      "text/plain": [
       "<matplotlib.figure.Figure at 0x1a70bae2e80>"
      ]
     },
     "metadata": {},
     "output_type": "display_data"
    }
   ],
   "source": [
    "perp = artm_model.score_tracker['perplexity']\n",
    "plot_value_tracker(perp, 'Perplexity')\n",
    "phi = artm_model.score_tracker['SparsityPhiScore']\n",
    "plot_value_tracker(phi, 'SparsityPhiScore')\n",
    "theta = artm_model.score_tracker['SparsityThetaScore']\n",
    "plot_value_tracker(theta, 'SparsityThetaScore')\n",
    "kernel = artm_model.score_tracker['TopicKernelScore']"
   ]
  },
  {
   "cell_type": "code",
   "execution_count": 52,
   "metadata": {
    "collapsed": true
   },
   "outputs": [],
   "source": [
    "doc_topic_matrix_artm = artm_model.get_theta().T"
   ]
  },
  {
   "cell_type": "code",
   "execution_count": 171,
   "metadata": {
    "collapsed": true
   },
   "outputs": [],
   "source": [
    "for test_it in test_df.index:\n",
    "    needed_pair = [int(it)-1 for it in test_df.loc[test_it].id.split('_')]\n",
    "    corr = doc_topic_matrix.loc[needed_pair].T.corr().at[needed_pair[0], needed_pair[1]]\n",
    "    test_df.at[test_it, 'similarity'] = corr"
   ]
  },
  {
   "cell_type": "code",
   "execution_count": 178,
   "metadata": {},
   "outputs": [
    {
     "data": {
      "text/plain": [
       "(1765.1483154296875, 0.964113712310791, 0.7240685224533081)"
      ]
     },
     "execution_count": 178,
     "metadata": {},
     "output_type": "execute_result"
    }
   ],
   "source": [
    "perp.last_value, phi.last_value, theta.last_value"
   ]
  },
  {
   "cell_type": "code",
   "execution_count": 179,
   "metadata": {
    "collapsed": true
   },
   "outputs": [],
   "source": [
    "artm_model.save('baseline_artm_100_topics')"
   ]
  },
  {
   "cell_type": "code",
   "execution_count": null,
   "metadata": {
    "collapsed": true
   },
   "outputs": [],
   "source": []
  }
 ],
 "metadata": {
  "kernelspec": {
   "display_name": "Python 3",
   "language": "python",
   "name": "python3"
  },
  "language_info": {
   "codemirror_mode": {
    "name": "ipython",
    "version": 3
   },
   "file_extension": ".py",
   "mimetype": "text/x-python",
   "name": "python",
   "nbconvert_exporter": "python",
   "pygments_lexer": "ipython3",
   "version": "3.6.2"
  }
 },
 "nbformat": 4,
 "nbformat_minor": 2
}
